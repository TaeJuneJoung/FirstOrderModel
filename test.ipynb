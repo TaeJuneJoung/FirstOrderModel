{
 "cells": [
  {
   "cell_type": "code",
   "execution_count": null,
   "metadata": {},
   "outputs": [],
   "source": [
    "import imageio\n",
    "import numpy as np\n",
    "import matplotlib.pyplot as plt\n",
    "import matplotlib.animation as animation\n",
    "from skimage.transform import resize\n",
    "from IPython.display import HTML\n",
    "import warnings\n",
    "\n",
    "warnings.filterwarnings('ignore')\n",
    "\n",
    "test_img = imageio.imread('./assets/image/test.png')\n",
    "test_video = imageio.get_reader('./assets/video/test.mp4')\n",
    "\n",
    "# Resize image and video to 256px x 256px\n",
    "# print(type(test_img)) # <class 'numpy.ndarray'>\n",
    "# print(type(resize(test_img, (256, 256)))) # <class 'numpy.ndarray'>\n",
    "resize_test_img = resize(test_img, (256, 256))[..., :3]\n",
    "# print(type(resize_test_img)) # <class 'numpy.ndarray'>\n",
    "\n",
    "fps = test_video.get_meta_data()['fps']\n",
    "driving_video = []\n",
    "try:\n",
    "    for im in test_video:\n",
    "        driving_video.append(im)\n",
    "except RuntimeError as e:\n",
    "    print(e)\n",
    "test_video.close()\n",
    "\n",
    "driving_video = [resize(frame, (256, 256))[..., :3] for frame in driving_video]\n",
    "\n",
    "def display(source, driving, generated=None):\n",
    "    fig = plt.figure(figsize=(8 + 4 * (generated is not None), 6))\n",
    "\n",
    "    ims = []\n",
    "    for i in range(len(driving)):\n",
    "        cols = [source]\n",
    "        cols.append(driving[i])\n",
    "        if generated is not None:\n",
    "            cols.append(generated[i])\n",
    "        im = plt.imshow(np.concatenate(cols, axis=1), animated=True)\n",
    "        plt.axis('off')\n",
    "        ims.append([im])\n",
    "\n",
    "    ani = animation.ArtistAnimation(fig, ims, interval=50, repeat_delay=1000)\n",
    "    plt.close()\n",
    "    return ani\n",
    "\n",
    "HTML(display(resize_test_img, driving_video).to_html5_video())\n"
   ]
  },
  {
   "cell_type": "code",
   "execution_count": null,
   "metadata": {},
   "outputs": [],
   "source": [
    "from demo import load_checkpoints\n",
    "generator, kp_detector = load_checkpoints(config_path='./assets/vox-256.yaml', \n",
    "                            checkpoint_path='./assets/vox-cpk.pth.tar')"
   ]
  },
  {
   "cell_type": "code",
   "execution_count": null,
   "metadata": {},
   "outputs": [],
   "source": [
    "from demo import make_animation\n",
    "from skimage import img_as_ubyte\n",
    "\n",
    "predictions = make_animation(resize_test_img, driving_video, generator, kp_detector, relative=True)\n",
    "\n",
    "#save resulting video\n",
    "imageio.mimsave('../generated.mp4', [img_as_ubyte(frame) for frame in predictions], fps=fps)\n",
    "#video can be downloaded from /content folder\n",
    "\n",
    "HTML(display(source_image, driving_video, predictions).to_html5_video())"
   ]
  }
 ],
 "metadata": {
  "kernelspec": {
   "display_name": "Python 3",
   "language": "python",
   "name": "python3"
  },
  "language_info": {
   "codemirror_mode": {
    "name": "ipython",
    "version": 3
   },
   "file_extension": ".py",
   "mimetype": "text/x-python",
   "name": "python",
   "nbconvert_exporter": "python",
   "pygments_lexer": "ipython3",
   "version": "3.7.4"
  }
 },
 "nbformat": 4,
 "nbformat_minor": 2
}
